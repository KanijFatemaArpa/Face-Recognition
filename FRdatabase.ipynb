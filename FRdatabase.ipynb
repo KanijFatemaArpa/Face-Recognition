{
 "cells": [
  {
   "cell_type": "code",
   "execution_count": 1,
   "id": "5ee078c0",
   "metadata": {},
   "outputs": [],
   "source": [
    "import sys\n",
    "import cv2 \n",
    "import face_recognition\n",
    "import pickle"
   ]
  },
  {
   "cell_type": "code",
   "execution_count": 2,
   "id": "91191042",
   "metadata": {},
   "outputs": [
    {
     "name": "stdout",
     "output_type": "stream",
     "text": [
      "ID 2222\n",
      "Name arpa\n",
      "Phone 09-347859876\n",
      "Crime assault\n",
      "Wanted Info Yes\n"
     ]
    }
   ],
   "source": [
    "ref_id=input(\"ID \")\n",
    "name=input(\"Name \")\n",
    "phone=input(\"Phone \")\n",
    "crime=input(\"Crime \")\n",
    "wanted=input(\"Wanted Info \")"
   ]
  },
  {
   "cell_type": "code",
   "execution_count": 3,
   "id": "b5e69e4a",
   "metadata": {},
   "outputs": [],
   "source": [
    "try:\n",
    "    f=open(\"ref_info.pkl\",\"rb\")\n",
    "    ref_dictt=pickle.load(f)\n",
    "    f.close()\n",
    "except:\n",
    "    ref_dictt={}\n",
    "ref_dictt[ref_id]=[name, phone, crime, wanted]\n",
    "f=open(\"ref_info.pkl\",\"wb\")\n",
    "pickle.dump(ref_dictt,f)\n",
    "f.close()\n",
    "try:\n",
    "    f=open(\"ref_embed.pkl\",\"rb\")\n",
    "    embed_dictt=pickle.load(f)\n",
    "    f.close()\n",
    "except:\n",
    "    embed_dictt={}"
   ]
  },
  {
   "cell_type": "code",
   "execution_count": 4,
   "id": "40375b3f",
   "metadata": {},
   "outputs": [
    {
     "ename": "IndexError",
     "evalue": "list index out of range",
     "output_type": "error",
     "traceback": [
      "\u001b[1;31m---------------------------------------------------------------------------\u001b[0m",
      "\u001b[1;31mIndexError\u001b[0m                                Traceback (most recent call last)",
      "Input \u001b[1;32mIn [4]\u001b[0m, in \u001b[0;36m<cell line: 1>\u001b[1;34m()\u001b[0m\n\u001b[0;32m     15\u001b[0m face_locations \u001b[38;5;241m=\u001b[39m face_recognition\u001b[38;5;241m.\u001b[39mface_locations(rgb_small_frame)\n\u001b[0;32m     16\u001b[0m \u001b[38;5;28;01mif\u001b[39;00m face_locations \u001b[38;5;241m!=\u001b[39m []:\n\u001b[1;32m---> 17\u001b[0m     face_encoding \u001b[38;5;241m=\u001b[39m \u001b[43mface_recognition\u001b[49m\u001b[38;5;241;43m.\u001b[39;49m\u001b[43mface_encodings\u001b[49m\u001b[43m(\u001b[49m\u001b[43mframe\u001b[49m\u001b[43m)\u001b[49m\u001b[43m[\u001b[49m\u001b[38;5;241;43m0\u001b[39;49m\u001b[43m]\u001b[49m\n\u001b[0;32m     18\u001b[0m     \u001b[38;5;28;01mif\u001b[39;00m ref_id \u001b[38;5;129;01min\u001b[39;00m embed_dictt:\n\u001b[0;32m     19\u001b[0m         embed_dictt[ref_id]\u001b[38;5;241m+\u001b[39m\u001b[38;5;241m=\u001b[39m[face_encoding]\n",
      "\u001b[1;31mIndexError\u001b[0m: list index out of range"
     ]
    }
   ],
   "source": [
    "for i in range(5):\n",
    "    key = cv2. waitKey(1)\n",
    "    webcam = cv2.VideoCapture(0)\n",
    "    while True:\n",
    "       \n",
    "        check, frame = webcam.read()\n",
    "\n",
    "        cv2.imshow(\"Capturing\", frame)\n",
    "        small_frame = cv2.resize(frame, (0, 0), fx=0.25, fy=0.25)\n",
    "        rgb_small_frame = small_frame[:, :, ::-1]\n",
    "  \n",
    "        key = cv2.waitKey(1)\n",
    "\n",
    "        if key == ord('s') : \n",
    "            face_locations = face_recognition.face_locations(rgb_small_frame)\n",
    "            if face_locations != []:\n",
    "                face_encoding = face_recognition.face_encodings(frame)[0]\n",
    "                if ref_id in embed_dictt:\n",
    "                    embed_dictt[ref_id]+=[face_encoding]\n",
    "                else:\n",
    "                    embed_dictt[ref_id]=[face_encoding]\n",
    "                webcam.release()\n",
    "                cv2.waitKey(1)\n",
    "                cv2.destroyAllWindows()     \n",
    "                break\n",
    "        elif key == ord('q'):\n",
    "            print(\"Turning off camera.\")\n",
    "            webcam.release()\n",
    "            print(\"Camera off.\")\n",
    "            print(\"Program ended.\")\n",
    "            cv2.destroyAllWindows()\n",
    "            break"
   ]
  },
  {
   "cell_type": "code",
   "execution_count": 5,
   "id": "d8dc5d09",
   "metadata": {},
   "outputs": [],
   "source": [
    "f=open(\"ref_embed.pkl\",\"wb\")\n",
    "pickle.dump(embed_dictt,f)\n",
    "f.close()"
   ]
  },
  {
   "cell_type": "code",
   "execution_count": null,
   "id": "a6dd1a70",
   "metadata": {},
   "outputs": [],
   "source": []
  },
  {
   "cell_type": "code",
   "execution_count": null,
   "id": "1aec377f",
   "metadata": {},
   "outputs": [],
   "source": []
  }
 ],
 "metadata": {
  "kernelspec": {
   "display_name": "Python 3 (ipykernel)",
   "language": "python",
   "name": "python3"
  },
  "language_info": {
   "codemirror_mode": {
    "name": "ipython",
    "version": 3
   },
   "file_extension": ".py",
   "mimetype": "text/x-python",
   "name": "python",
   "nbconvert_exporter": "python",
   "pygments_lexer": "ipython3",
   "version": "3.9.12"
  }
 },
 "nbformat": 4,
 "nbformat_minor": 5
}
